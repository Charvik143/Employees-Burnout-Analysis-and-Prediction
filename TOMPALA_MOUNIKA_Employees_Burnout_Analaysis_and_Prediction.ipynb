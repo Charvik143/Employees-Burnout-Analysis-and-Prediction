{
  "cells": [
    {
      "cell_type": "markdown",
      "metadata": {
        "id": "view-in-github",
        "colab_type": "text"
      },
      "source": [
        "<a href=\"https://colab.research.google.com/github/Charvik143/Employees-Burnout-Analysis-and-Prediction/blob/main/TOMPALA_MOUNIKA_Employees_Burnout_Analaysis_and_Prediction.ipynb\" target=\"_parent\"><img src=\"https://colab.research.google.com/assets/colab-badge.svg\" alt=\"Open In Colab\"/></a>"
      ]
    },
    {
      "cell_type": "markdown",
      "metadata": {
        "id": "Hc_AMKtcLbmI"
      },
      "source": [
        "Importing Libraries"
      ]
    },
    {
      "cell_type": "code",
      "execution_count": null,
      "metadata": {
        "id": "5Vdy9i3vIbuW"
      },
      "outputs": [],
      "source": [
        "import warnings\n",
        "warnings.filterwarnings('ignore')"
      ]
    },
    {
      "cell_type": "code",
      "execution_count": null,
      "metadata": {
        "id": "gO1ucpzzI61E"
      },
      "outputs": [],
      "source": [
        "import pandas as pd\n",
        "import numpy as np\n",
        "import seaborn as sns\n",
        "import matplotlib.pyplot as plt\n",
        "import plotly.express as px\n",
        "from google.colab import drive\n",
        "drive.mount('/content/drive')"
      ]
    },
    {
      "cell_type": "markdown",
      "metadata": {
        "id": "wAaIa55SLgiS"
      },
      "source": [
        "Loading Dataset"
      ]
    },
    {
      "cell_type": "code",
      "execution_count": null,
      "metadata": {
        "id": "KDkk0PT0JHJC"
      },
      "outputs": [],
      "source": [
        "pd.set_option('display.max_columns',None)\n",
        "burnoutDf=pd.read_csv('/content/drive/MyDrive/employee_burnout_analysis.csv')\n",
        "burnoutDf\n"
      ]
    },
    {
      "cell_type": "code",
      "execution_count": null,
      "metadata": {
        "id": "wqN3EiV_MTct"
      },
      "outputs": [],
      "source": [
        "#convert into dateTime dataType\n",
        "burnoutDf[\"Date of Joining\"]= pd.to_datetime(burnoutDf[\"Date of Joining\"])"
      ]
    },
    {
      "cell_type": "code",
      "execution_count": null,
      "metadata": {
        "id": "-VPc-A6ZO46T"
      },
      "outputs": [],
      "source": [
        "# give the number of rows and columns\n",
        "burnoutDf.shape"
      ]
    },
    {
      "cell_type": "code",
      "execution_count": null,
      "metadata": {
        "id": "s7bLjmwLPRt8"
      },
      "outputs": [],
      "source": [
        "# general information\n",
        "burnoutDf.info()"
      ]
    },
    {
      "cell_type": "code",
      "execution_count": null,
      "metadata": {
        "id": "JQknrCLYPdCr"
      },
      "outputs": [],
      "source": [
        "#show top 5 rows\n",
        "burnoutDf.head()"
      ]
    },
    {
      "cell_type": "code",
      "execution_count": null,
      "metadata": {
        "id": "pNa4GE_r8OLM"
      },
      "outputs": [],
      "source": [
        "#extract all columns of the dataset\n",
        "burnoutDf.columns"
      ]
    },
    {
      "cell_type": "code",
      "execution_count": null,
      "metadata": {
        "id": "zVylxmcQALmi"
      },
      "outputs": [],
      "source": [
        "#check for null values\n",
        "burnoutDf.isna().sum()"
      ]
    },
    {
      "cell_type": "code",
      "execution_count": null,
      "metadata": {
        "id": "cAx5UYRp_hYR"
      },
      "outputs": [],
      "source": [
        "#check the duplicates values\n",
        "burnoutDf.duplicated().sum()"
      ]
    },
    {
      "cell_type": "code",
      "execution_count": null,
      "metadata": {
        "id": "SlbGybXH_2SJ"
      },
      "outputs": [],
      "source": [
        "#calculate the mean,std,min,max,count of every attribute\n",
        "burnoutDf.describe()"
      ]
    },
    {
      "cell_type": "code",
      "execution_count": null,
      "metadata": {
        "id": "OsXvkvwgAGG-"
      },
      "outputs": [],
      "source": [
        "#show the unique columns\n",
        "for i, col in enumerate(burnoutDf.columns):\n",
        "  print(f\"\\n\\n{burnoutDf[col].unique()}\")\n",
        "  print(f\"\\n{burnoutDf[col].value_counts()}\\n\\n\")"
      ]
    },
    {
      "cell_type": "code",
      "execution_count": null,
      "metadata": {
        "id": "ErAaIHi3BupU"
      },
      "outputs": [],
      "source": [
        "#drop irrelevant column\n",
        "burnoutDf= burnoutDf.drop(['Employee ID'],axis=1)\n"
      ]
    },
    {
      "cell_type": "code",
      "execution_count": null,
      "metadata": {
        "id": "EUO64B98CjWe"
      },
      "outputs": [],
      "source": [
        "#check the skewness of the attributes\n",
        "intFloatburnoutDf=burnoutDf.select_dtypes([np.int,np.float])\n",
        "for i, col in enumerate(intFloatburnoutDf.columns):\n",
        "  if(intFloatburnoutDf[col].skew()>=0.1):\n",
        "\n",
        "    print(\"/n\",col,\"feature is positivity skewed and values is:\",intFloatburnoutDf[col].skew())\n",
        "  elif(intFloatburnoutDf[col].skew()<= -0.1):\n",
        "      print(\"\\n\",col,\"feature is negatively skewed and value is:\", intFloatburnoutDf[col].skew())\n",
        "  else:\n",
        "    print(\"\\n\",col,\"feature is normally distributed skewed and value is:\", intFloatburnoutDf[col].skew())"
      ]
    },
    {
      "cell_type": "code",
      "execution_count": null,
      "metadata": {
        "id": "4FCzUoFaGlI_"
      },
      "outputs": [],
      "source": [
        "# replace the null values with mean\n",
        "burnoutDf['Resource Allocation'].fillna(burnoutDf['Resource Allocation'].mean(),inplace=True)\n",
        "burnoutDf['Mental Fatigue Score'].fillna(burnoutDf['Mental Fatigue Score'].mean(),inplace=True)\n",
        "burnoutDf['Burn Rate'].fillna(burnoutDf['Burn Rate'].mean(),inplace=True)"
      ]
    },
    {
      "cell_type": "code",
      "execution_count": null,
      "metadata": {
        "id": "E9S8s4VdINrm"
      },
      "outputs": [],
      "source": [
        "#check for null values\n",
        "burnoutDf.isna().sum()"
      ]
    },
    {
      "cell_type": "code",
      "execution_count": null,
      "metadata": {
        "id": "3pnxyFQYI_Zc"
      },
      "outputs": [],
      "source": [
        "burnoutDf.corr()"
      ]
    },
    {
      "cell_type": "markdown",
      "metadata": {
        "id": "bU9FwbIRJV94"
      },
      "source": [
        "Data Visualization"
      ]
    },
    {
      "cell_type": "code",
      "execution_count": null,
      "metadata": {
        "id": "HNnC_yXNJgsu"
      },
      "outputs": [],
      "source": [
        "#count plot distribution of \"Gender\"\n",
        "plt.figure(figsize=(10,8))\n",
        "sns.countplot(x=\"Gender\",data=burnoutDf,palette=\"magma\")\n",
        "plt.title(\"plot Distribution of Gender\")\n",
        "plt.show()"
      ]
    },
    {
      "cell_type": "code",
      "execution_count": null,
      "metadata": {
        "id": "A3d_XOGLey_3"
      },
      "outputs": [],
      "source": [
        "# count plot distibution of \"company type\"\n",
        "plt.figure(figsize=(10,8))\n",
        "sns.countplot(x=\"Company Type\",data=burnoutDf,palette=\"Spectral\")\n",
        "plt.title(\"plot distribution of company type\")\n",
        "plt.show()"
      ]
    },
    {
      "cell_type": "code",
      "execution_count": null,
      "metadata": {
        "id": "KajcyLCYhraJ"
      },
      "outputs": [],
      "source": [
        "#count plot distribution of WFH Setup Availble\"\n",
        "plt.figure(figsize=(10,8))\n",
        "sns.countplot(x=\"WFH Setup Available\",data=burnoutDf,palette=\"dark:salmon_r\")\n",
        "plt.title(\"plot distribution of WFH_Setup_Availble\")\n",
        "plt.show()"
      ]
    },
    {
      "cell_type": "code",
      "execution_count": null,
      "metadata": {
        "id": "Rq2s20RGiJ14"
      },
      "outputs": [],
      "source": [
        "# count-Plot Distribution of attributes with the help of Histogram\n",
        "burn_st=burnoutDf.loc[:,'Date of Joining':'Burn Rate']\n",
        "burn_st=burn_st.select_dtypes([int,float])\n",
        "for i, col in enumerate(burn_st.columns):\n",
        "  fig =px.histogram(burn_st, x=col, title=\"Plot Distribution of \"+col,color_discrete_sequence=[\"indianred\"])\n",
        "  fig.update_layout(bargap=0.2)\n",
        "  fig.show()"
      ]
    },
    {
      "cell_type": "code",
      "execution_count": null,
      "metadata": {
        "id": "Lm8lNPmOJda6"
      },
      "outputs": [],
      "source": [
        "from IPython.utils import text\n",
        "#plotting Heat map to check Correlation\n",
        "Corr=burnoutDf.corr()\n",
        "sns.set(rc={'figure.figsize':(14,12)})\n",
        "fig=px.imshow(Corr,text_auto=True,aspect='auto')\n",
        "fig.show()"
      ]
    },
    {
      "cell_type": "code",
      "execution_count": null,
      "metadata": {
        "id": "6X0YEpp9kjIm"
      },
      "outputs": [],
      "source": [
        "# plot distribution of Burn Rate  on the basis of Designation\n",
        "fig=px.line(burnoutDf, y=\"Burn Rate\", color=\"Designation\",title=\"Burn rate on the basis of Designation\",color_discrete_sequence=px.colors.qualitative.Pastel1)\n",
        "fig.update_layout(bargap=0.2)\n",
        "fig.show()"
      ]
    },
    {
      "cell_type": "code",
      "execution_count": null,
      "metadata": {
        "id": "L1Gu8Cmcmb7s"
      },
      "outputs": [],
      "source": [
        "# plot distribution of Burn Rate  on the basis of Gender\n",
        "fig=px.line(burnoutDf, y=\"Burn Rate\", color=\"Gender\",title=\"Burn rate on the basis of Gender\",color_discrete_sequence=px.colors.qualitative.Pastel1)\n",
        "fig.update_layout(bargap=0.2)\n",
        "fig.show()"
      ]
    },
    {
      "cell_type": "code",
      "execution_count": null,
      "metadata": {
        "id": "HI0M8oGnmC5z"
      },
      "outputs": [],
      "source": [
        "# plot distribution of mental fatigue  on the basis of Designation\n",
        "fig=px.line(burnoutDf, y=\"Mental Fatigue Score\",color=\"Designation\",title=\"Mental Fatigue vs Designation\",color_discrete_sequence=px.colors.qualitative.Pastel1)\n",
        "fig.update_layout(bargap=0.2)\n",
        "fig.show()"
      ]
    },
    {
      "cell_type": "code",
      "execution_count": null,
      "metadata": {
        "id": "IdIkwAPXoFsH"
      },
      "outputs": [],
      "source": [
        "#Plot Distribution of \"Designation\" vs mental fatigue\" as per Company type ,Burn rate and Gender\n",
        "sns.relplot(\n",
        "    data=burnoutDf,x=\"Designation\", y=\"Mental Fatigue Score\",col=\"Company Type\",\n",
        "    hue=\"Company Type\",size=\"Burn Rate\",style=\"Gender\",\n",
        "    palette=[\"g\",\"r\"],sizes=(50,200)\n",
        ")"
      ]
    },
    {
      "cell_type": "markdown",
      "metadata": {
        "id": "_lT6rtoOs7n2"
      },
      "source": [
        "Label Encoding"
      ]
    },
    {
      "cell_type": "code",
      "execution_count": null,
      "metadata": {
        "id": "15dVapuaqRTY"
      },
      "outputs": [],
      "source": [
        "# label encoding and assign in new variable\n",
        "from sklearn import preprocessing\n",
        "Label_encode = preprocessing.LabelEncoder()"
      ]
    },
    {
      "cell_type": "code",
      "execution_count": null,
      "metadata": {
        "id": "rUE9ScnarODd"
      },
      "outputs": [],
      "source": [
        "# Assign in new variable\n",
        "burnoutDf['GenderLabel'] = Label_encode.fit_transform(burnoutDf['Gender'].values)\n",
        "burnoutDf['Company_TypeLabel'] = Label_encode.fit_transform(burnoutDf['Company Type'].values)\n",
        "burnoutDf['WFH_Setup_AvailableLabel'] = Label_encode.fit_transform(burnoutDf['WFH Setup Available'].values)"
      ]
    },
    {
      "cell_type": "code",
      "execution_count": null,
      "metadata": {
        "id": "ukRMqio4skPe"
      },
      "outputs": [],
      "source": [
        "#check assigned values\n",
        "gn=burnoutDf.groupby('Gender')\n",
        "gn=gn['GenderLabel']\n",
        "gn.first()"
      ]
    },
    {
      "cell_type": "code",
      "execution_count": null,
      "metadata": {
        "id": "3S07SDTAtPis"
      },
      "outputs": [],
      "source": [
        "#check assigned values\n",
        "ct=burnoutDf.groupby('Company Type')\n",
        "ct=ct['Company_TypeLabel']\n",
        "ct.first()"
      ]
    },
    {
      "cell_type": "code",
      "execution_count": null,
      "metadata": {
        "id": "N0LP9oRFuCoY"
      },
      "outputs": [],
      "source": [
        "# check assigned values\n",
        "wsa=burnoutDf.groupby('WFH Setup Available')\n",
        "wsa=wsa['WFH_Setup_AvailableLabel']\n",
        "wsa.first()"
      ]
    },
    {
      "cell_type": "code",
      "execution_count": null,
      "metadata": {
        "id": "UKUXBjeyu6jM"
      },
      "outputs": [],
      "source": [
        "# show last 10 rows\n",
        "burnoutDf.tail(10)"
      ]
    },
    {
      "cell_type": "markdown",
      "metadata": {
        "id": "TpDy4AoYw90p"
      },
      "source": [
        "Feature selection"
      ]
    },
    {
      "cell_type": "code",
      "execution_count": null,
      "metadata": {
        "id": "Qo2H3pTkvSUE"
      },
      "outputs": [],
      "source": [
        "# Feature selection\n",
        "Columns=['Designation',\t'Resource Allocation','Mental Fatigue Score','Burn Rate','GenderLabel','Company_TypeLabel','WFH_Setup_AvailableLabel']\n",
        "X= burnoutDf[Columns]\n",
        "Y=burnoutDf['Burn Rate']"
      ]
    },
    {
      "cell_type": "code",
      "execution_count": null,
      "metadata": {
        "id": "1h3ULJlG3xDk"
      },
      "outputs": [],
      "source": [
        "print(X)"
      ]
    },
    {
      "cell_type": "code",
      "execution_count": null,
      "metadata": {
        "id": "ppllN6gw33z0"
      },
      "outputs": [],
      "source": [
        "print(Y)"
      ]
    },
    {
      "cell_type": "markdown",
      "metadata": {
        "id": "7kqBhiIF4YV-"
      },
      "source": [
        "implementing pca"
      ]
    },
    {
      "cell_type": "code",
      "execution_count": null,
      "metadata": {
        "id": "xogZOR1X3912"
      },
      "outputs": [],
      "source": [
        "# priciple component Analysis\n",
        "from sklearn.decomposition import PCA\n",
        "pca = PCA(0.95)\n",
        "X_pca = pca.fit_transform(X)\n",
        "\n",
        "print(\"PCA shape of X:\",X_pca.shape,\"and original shape is:\",X.shape)\n",
        "print(\"% of importance of selected feature is:\",pca.explained_variance_ratio_)\n",
        "print(\"The number of features selected through PCA is :\",pca.n_components)"
      ]
    },
    {
      "cell_type": "markdown",
      "source": [
        "Data Splitting"
      ],
      "metadata": {
        "id": "-g8YXZ7wyE-Q"
      }
    },
    {
      "cell_type": "code",
      "source": [
        "# Data Splitting in the train and test\n",
        "from sklearn.model_selection import train_test_split\n",
        "X_train_pca, X_test, Y_train , Y_test= train_test_split(X_pca,Y, test_size=0.25,random_state=10)"
      ],
      "metadata": {
        "id": "vURdP43tyJ8O"
      },
      "execution_count": null,
      "outputs": []
    },
    {
      "cell_type": "code",
      "source": [
        "#print the shape of splitting data\n",
        "print(X_train_pca.shape,X_test.shape,Y_train.shape,Y_test.shape)"
      ],
      "metadata": {
        "id": "yrsYR4bXy1Yw"
      },
      "execution_count": null,
      "outputs": []
    },
    {
      "cell_type": "markdown",
      "source": [
        "Model Implementation"
      ],
      "metadata": {
        "id": "AIiRmDTr1Ql7"
      }
    },
    {
      "cell_type": "markdown",
      "source": [
        "Random Forest Regression"
      ],
      "metadata": {
        "id": "EBTvLiWF1giI"
      }
    },
    {
      "cell_type": "code",
      "source": [
        "from sklearn.metrics import r2_score\n"
      ],
      "metadata": {
        "id": "hDiaqdLtzHzS"
      },
      "execution_count": null,
      "outputs": []
    },
    {
      "cell_type": "code",
      "source": [
        "# random forest regression\n",
        "from sklearn.ensemble import RandomForestRegressor\n",
        "\n",
        "rf_model= RandomForestRegressor()\n",
        "rf_model.fit(X_train_pca,Y_train)\n",
        "train_pred_rf=rf_model.predict(X_train_pca)\n",
        "train_r2=r2_score(Y_train,train_pred_rf)\n",
        "test_pred_rf=rf_model.predict(X_test)\n",
        "test_r2=r2_score(Y_test,test_pred_rf)\n",
        "#accuracy score\n",
        "print(\"Accuracy score of train data:\"+str(round(100*train_r2,4))+\"%\")\n",
        "print(\"Accuracy score of test data:\"+str(round(100*test_r2,4))+\"%\")"
      ],
      "metadata": {
        "id": "pjlfJskSCLRv"
      },
      "execution_count": null,
      "outputs": []
    },
    {
      "cell_type": "code",
      "source": [
        "#Adaboost regressor\n",
        "from sklearn.ensemble import AdaBoostRegressor\n",
        "abr_model = AdaBoostRegressor()\n",
        "abr_model.fit(X_train_pca,Y_train)\n",
        "\n",
        "train_pred_adboost = abr_model.predict(X_train_pca)\n",
        "train_r2= r2_score(Y_train,train_pred_adboost)\n",
        "test_pred_adaboost = abr_model.predict(X_test)\n",
        "test_r2=r2_score(Y_test,test_pred_adaboost)\n",
        "\n",
        "#Accuracy score\n",
        "print(\"Accuracy score of train data:\"+str(round(100*train_r2,4))+\"%\")\n",
        "print(\"Accuracy score of train data:\"+str(round(100*test_r2,4))+\"%\")\n",
        "\n"
      ],
      "metadata": {
        "id": "0bpPoxUBD4Dh"
      },
      "execution_count": null,
      "outputs": []
    }
  ],
  "metadata": {
    "colab": {
      "provenance": [],
      "include_colab_link": true
    },
    "kernelspec": {
      "display_name": "Python 3",
      "name": "python3"
    },
    "language_info": {
      "name": "python"
    }
  },
  "nbformat": 4,
  "nbformat_minor": 0
}